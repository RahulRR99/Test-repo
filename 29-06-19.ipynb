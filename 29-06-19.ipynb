{
 "cells": [
  {
   "cell_type": "code",
   "execution_count": 28,
   "metadata": {},
   "outputs": [],
   "source": [
    "def Pizza (name,Size, Flavour, *Topping):\n",
    "    print(\"order is Given By : \"+name)\n",
    "    print(\"Size of pizza is  : \"+Size)\n",
    "    print(\"Flavour of pizza is : \"+Flavour)\n",
    "    print(\"Toppings are :\")\n",
    "    for Topping in Topping:\n",
    "        print(Topping)\n"
   ]
  },
  {
   "cell_type": "code",
   "execution_count": 30,
   "metadata": {},
   "outputs": [
    {
     "name": "stdout",
     "output_type": "stream",
     "text": [
      "order is Given By : pizza point\n",
      "Size of pizza is  : Large\n",
      "Flavour of pizza is : Cheeze\n",
      "Toppings are :\n",
      "olives\n",
      "Extra cheeze\n",
      "Spicy\n",
      "mashrooms\n"
     ]
    }
   ],
   "source": [
    "Pizza(\"pizza point\",\"Large\", 'Cheeze', 'olives', 'Extra cheeze', 'Spicy','mashrooms')"
   ]
  },
  {
   "cell_type": "code",
   "execution_count": 22,
   "metadata": {},
   "outputs": [],
   "source": [
    "def person(fname, lname, **about):\n",
    "    print(fname, lname)\n",
    "    print(about)"
   ]
  },
  {
   "cell_type": "code",
   "execution_count": 23,
   "metadata": {},
   "outputs": [
    {
     "name": "stdout",
     "output_type": "stream",
     "text": [
      "Rahul Roshan\n",
      "{'age': 20, 'address': 'karachi'}\n"
     ]
    }
   ],
   "source": [
    "person('Rahul', 'Roshan', age=20, address='karachi')"
   ]
  },
  {
   "cell_type": "code",
   "execution_count": 31,
   "metadata": {},
   "outputs": [
    {
     "name": "stdout",
     "output_type": "stream",
     "text": [
      "tomy alber\n",
      "{'age': 20, 'no': [2345, 5432], 'dir': ['key', 'Value'], 'address': 'London'}\n"
     ]
    }
   ],
   "source": [
    "person('tomy', 'alber', age=20, no = [2345,5432], dir=[\"key\" ,\"Value\" ], address='London')"
   ]
  },
  {
   "cell_type": "markdown",
   "metadata": {},
   "source": [
    "# Using Function as a variable\n"
   ]
  },
  {
   "cell_type": "code",
   "execution_count": 51,
   "metadata": {},
   "outputs": [],
   "source": [
    "def add():\n",
    "    x = 3 + 5\n",
    "    return x"
   ]
  },
  {
   "cell_type": "code",
   "execution_count": 52,
   "metadata": {},
   "outputs": [],
   "source": [
    "def sum():\n",
    "    y = 29 + 9\n",
    "    return y"
   ]
  },
  {
   "cell_type": "code",
   "execution_count": 53,
   "metadata": {},
   "outputs": [
    {
     "ename": "SyntaxError",
     "evalue": "invalid syntax (<ipython-input-53-babc8a26e376>, line 1)",
     "output_type": "error",
     "traceback": [
      "\u001b[1;36m  File \u001b[1;32m\"<ipython-input-53-babc8a26e376>\"\u001b[1;36m, line \u001b[1;32m1\u001b[0m\n\u001b[1;33m    answer =add()+sum():\u001b[0m\n\u001b[1;37m                       ^\u001b[0m\n\u001b[1;31mSyntaxError\u001b[0m\u001b[1;31m:\u001b[0m invalid syntax\n"
     ]
    }
   ],
   "source": [
    "answer =add()+sum():"
   ]
  },
  {
   "cell_type": "code",
   "execution_count": 54,
   "metadata": {},
   "outputs": [
    {
     "ename": "NameError",
     "evalue": "name 'answer' is not defined",
     "output_type": "error",
     "traceback": [
      "\u001b[1;31m---------------------------------------------------------------------------\u001b[0m",
      "\u001b[1;31mNameError\u001b[0m                                 Traceback (most recent call last)",
      "\u001b[1;32m<ipython-input-54-b33788c35f07>\u001b[0m in \u001b[0;36m<module>\u001b[1;34m\u001b[0m\n\u001b[1;32m----> 1\u001b[1;33m \u001b[0manswer\u001b[0m\u001b[1;33m\u001b[0m\u001b[1;33m\u001b[0m\u001b[0m\n\u001b[0m",
      "\u001b[1;31mNameError\u001b[0m: name 'answer' is not defined"
     ]
    }
   ],
   "source": [
    "answer"
   ]
  },
  {
   "cell_type": "code",
   "execution_count": 74,
   "metadata": {},
   "outputs": [],
   "source": [
    "def salary(basic,commision):\n",
    "    total = basic + commision\n",
    "    print(f\" Your salary is :{total} \")"
   ]
  },
  {
   "cell_type": "code",
   "execution_count": 75,
   "metadata": {},
   "outputs": [],
   "source": [
    "def commisionCalculator(sales):\n",
    "    if sales>=100000:\n",
    "        percentage = 30\n",
    "    elif sales>=50000:\n",
    "        percentage = 20\n",
    "    elif sales>=30000:\n",
    "        percentage = 10\n",
    "    elif sales>=10000:\n",
    "        percentage = 5\n",
    "    else:\n",
    "        percentage = 0\n",
    "    commision = sales/100*percentage\n",
    "    return commision"
   ]
  },
  {
   "cell_type": "code",
   "execution_count": 76,
   "metadata": {},
   "outputs": [
    {
     "name": "stdout",
     "output_type": "stream",
     "text": [
      "Enter your Basic salary:100000\n",
      "Enter your sales:50000\n",
      " Your salary is :35000.0 \n"
     ]
    }
   ],
   "source": [
    "basic= int(input(\"Enter your Basic salary:\"))\n",
    "sales= int(input(\"Enter your sales:\"))\n",
    "salary(25000,commisionCalculator(50000))"
   ]
  },
  {
   "cell_type": "markdown",
   "metadata": {},
   "source": [
    "# Local and Global Variable\n"
   ]
  },
  {
   "cell_type": "code",
   "execution_count": 81,
   "metadata": {},
   "outputs": [
    {
     "name": "stdout",
     "output_type": "stream",
     "text": [
      " Apple\n"
     ]
    }
   ],
   "source": [
    "fruit = \" Apple\" #global\n",
    "\n",
    "def alocal():\n",
    "    a = 100  #local\n",
    "    fruit = \"orange\"   #global\n",
    "    print(fruit)\n",
    "    print(a)\n",
    "print(fruit)\n"
   ]
  },
  {
   "cell_type": "code",
   "execution_count": 82,
   "metadata": {},
   "outputs": [
    {
     "name": "stdout",
     "output_type": "stream",
     "text": [
      "orange\n",
      "100\n"
     ]
    }
   ],
   "source": [
    "alocal()\n"
   ]
  },
  {
   "cell_type": "code",
   "execution_count": 86,
   "metadata": {},
   "outputs": [],
   "source": [
    "#accessing a local variable outside function body\n",
    "\n",
    "def alocal():\n",
    "    global a\n",
    "    \n",
    "    a=100\n",
    "    \n",
    "    fruit = \"orange\"   #global\n",
    "    print(fruit)\n",
    "    print(a)\n",
    "    "
   ]
  },
  {
   "cell_type": "code",
   "execution_count": 84,
   "metadata": {},
   "outputs": [
    {
     "name": "stdout",
     "output_type": "stream",
     "text": [
      "orange\n",
      "100\n"
     ]
    }
   ],
   "source": [
    "alocal()"
   ]
  },
  {
   "cell_type": "code",
   "execution_count": 85,
   "metadata": {},
   "outputs": [
    {
     "data": {
      "text/plain": [
       "100"
      ]
     },
     "execution_count": 85,
     "metadata": {},
     "output_type": "execute_result"
    }
   ],
   "source": [
    "a\n"
   ]
  },
  {
   "cell_type": "code",
   "execution_count": 87,
   "metadata": {},
   "outputs": [],
   "source": [
    "#accessing a local variable outside function body\n",
    "\n",
    "    a=100\n",
    "    \n",
    "def alocal():\n",
    "    global a\n",
    "    \n",
    "    global fruit\n",
    "    fruit = \"orange\"   #global\n",
    "    print(fruit)\n",
    "    print(a)\n",
    "    "
   ]
  },
  {
   "cell_type": "code",
   "execution_count": 89,
   "metadata": {},
   "outputs": [
    {
     "name": "stdout",
     "output_type": "stream",
     "text": [
      "orange\n",
      "100\n",
      "orange\n"
     ]
    }
   ],
   "source": [
    "alocal()\n",
    "print(fruit)"
   ]
  },
  {
   "cell_type": "markdown",
   "metadata": {},
   "source": [
    "# While Loop "
   ]
  },
  {
   "cell_type": "code",
   "execution_count": 107,
   "metadata": {},
   "outputs": [
    {
     "name": "stdout",
     "output_type": "stream",
     "text": [
      "0\n",
      "2\n",
      "4\n",
      "6\n",
      "8\n"
     ]
    }
   ],
   "source": [
    "for a in range(0,10,2):\n",
    "    print(a)"
   ]
  },
  {
   "cell_type": "code",
   "execution_count": 108,
   "metadata": {},
   "outputs": [
    {
     "name": "stdout",
     "output_type": "stream",
     "text": [
      "8\n",
      "9\n"
     ]
    }
   ],
   "source": [
    "a-0\n",
    "while a<10:\n",
    "    print(a)\n",
    "    a +=1"
   ]
  },
  {
   "cell_type": "code",
   "execution_count": 111,
   "metadata": {},
   "outputs": [
    {
     "name": "stdout",
     "output_type": "stream",
     "text": [
      "0\n",
      "2\n",
      "4\n",
      "6\n",
      "8\n"
     ]
    }
   ],
   "source": [
    "a =0\n",
    "while a<10:\n",
    "    print(a)\n",
    "    a +=2"
   ]
  },
  {
   "cell_type": "code",
   "execution_count": 109,
   "metadata": {},
   "outputs": [
    {
     "name": "stdout",
     "output_type": "stream",
     "text": [
      "Enter name or Typr exit to quitmzx\n",
      "mzx\n",
      "Enter name or Typr exit to quitefwef\n",
      "efwef\n",
      "Enter name or Typr exit to quitefwfwe\n",
      "efwfwe\n",
      "Enter name or Typr exit to quitfwe\n",
      "fwe\n",
      "Enter name or Typr exit to quitf\n",
      "f\n",
      "Enter name or Typr exit to quit\n",
      "\n",
      "Enter name or Typr exit to quitfwefwefwe\n",
      "fwefwefwe\n",
      "Enter name or Typr exit to quitfwefwefwe\n",
      "fwefwefwe\n",
      "Enter name or Typr exit to quitfefwfwef\n",
      "fefwfwef\n",
      "Enter name or Typr exit to quitweffwefw\n",
      "weffwefw\n",
      "Enter name or Typr exit to quitExit\n",
      "Exit\n",
      "Enter name or Typr exit to quitexit\n",
      "exit\n"
     ]
    }
   ],
   "source": [
    "flag = True\n",
    "while flag:\n",
    "    name =input(\"Enter name or Typr exit to quit\")\n",
    "    print(name)\n",
    "    if name ==\"exit\":\n",
    "        flag = False"
   ]
  },
  {
   "cell_type": "markdown",
   "metadata": {},
   "source": [
    "# Pizza toping Function With Loop"
   ]
  },
  {
   "cell_type": "code",
   "execution_count": null,
   "metadata": {},
   "outputs": [],
   "source": [
    "def Pizza (name,Size, Flavour, *Topping):\n",
    "    print(\"order is Given By : \"+name)\n",
    "    print(\"Size of pizza is  : \"+Size)\n",
    "    print(\"Flavour of pizza is : \"+Flavour)\n",
    "    print(\"Toppings are :\")\n",
    "    for Topping in Topping:\n",
    "        print(Topping)\n"
   ]
  },
  {
   "cell_type": "code",
   "execution_count": null,
   "metadata": {},
   "outputs": [],
   "source": [
    "    name =input(\"Enter your Pizza Name\")\n",
    "    Size =input(\"Enter your Pizza Size\")\n",
    "    Flavour =input(\"Enter your Pizza Flavor\")\n",
    "\n",
    "    \n",
    "    while Topping:\n",
    "    Topping =input(\"Enter Topings or Typr exit to quit\")\n",
    "    Topping = (\"Cheeze\",\"olives\",\"cheeze\",\"spicy\",\"onions\",\"mashrooms\")\n",
    "     if Toppings ==\"exit\":\n",
    "        flag = False\n",
    "        \n",
    "print(name)\n",
    "print(Size)\n",
    "print(Flavour)\n",
    "print(Topping)\n",
    "   "
   ]
  },
  {
   "cell_type": "code",
   "execution_count": null,
   "metadata": {},
   "outputs": [],
   "source": [
    "        \n",
    "print(name)\n",
    "print(Size)\n",
    "print(Flavour)\n",
    "print(Topping)"
   ]
  },
  {
   "cell_type": "markdown",
   "metadata": {},
   "source": [
    "# class"
   ]
  },
  {
   "cell_type": "code",
   "execution_count": 18,
   "metadata": {},
   "outputs": [],
   "source": [
    "class Patient():\n",
    "    def __init__(self, pid, pname, disease, age, gender):\n",
    "        \n",
    "        self.pid = pid\n",
    "        self.pname = pname\n",
    "        self.disease = disease\n",
    "        self.age = age\n",
    "        self.gender = gender"
   ]
  },
  {
   "cell_type": "code",
   "execution_count": 19,
   "metadata": {},
   "outputs": [],
   "source": [
    "p1 = Patient(111,\"gabbar\",\"TB\",34,\"male\")"
   ]
  },
  {
   "cell_type": "code",
   "execution_count": 20,
   "metadata": {},
   "outputs": [],
   "source": [
    "p2 = Patient(112,\"Samba\",\"Sugar\",43,\"male\")"
   ]
  },
  {
   "cell_type": "code",
   "execution_count": 23,
   "metadata": {},
   "outputs": [
    {
     "data": {
      "text/plain": [
       "34"
      ]
     },
     "execution_count": 23,
     "metadata": {},
     "output_type": "execute_result"
    }
   ],
   "source": [
    "p1.age"
   ]
  },
  {
   "cell_type": "code",
   "execution_count": 24,
   "metadata": {},
   "outputs": [
    {
     "data": {
      "text/plain": [
       "43"
      ]
     },
     "execution_count": 24,
     "metadata": {},
     "output_type": "execute_result"
    }
   ],
   "source": [
    "p2.age"
   ]
  },
  {
   "cell_type": "code",
   "execution_count": 25,
   "metadata": {},
   "outputs": [
    {
     "data": {
      "text/plain": [
       "'gabbar'"
      ]
     },
     "execution_count": 25,
     "metadata": {},
     "output_type": "execute_result"
    }
   ],
   "source": [
    "p1.pname"
   ]
  },
  {
   "cell_type": "code",
   "execution_count": 26,
   "metadata": {},
   "outputs": [
    {
     "data": {
      "text/plain": [
       "'Samba'"
      ]
     },
     "execution_count": 26,
     "metadata": {},
     "output_type": "execute_result"
    }
   ],
   "source": [
    "p2.pname\n"
   ]
  },
  {
   "cell_type": "code",
   "execution_count": 27,
   "metadata": {},
   "outputs": [
    {
     "data": {
      "text/plain": [
       "'TB'"
      ]
     },
     "execution_count": 27,
     "metadata": {},
     "output_type": "execute_result"
    }
   ],
   "source": [
    "p1.disease"
   ]
  },
  {
   "cell_type": "code",
   "execution_count": null,
   "metadata": {},
   "outputs": [],
   "source": []
  }
 ],
 "metadata": {
  "kernelspec": {
   "display_name": "Python 3",
   "language": "python",
   "name": "python3"
  },
  "language_info": {
   "codemirror_mode": {
    "name": "ipython",
    "version": 3
   },
   "file_extension": ".py",
   "mimetype": "text/x-python",
   "name": "python",
   "nbconvert_exporter": "python",
   "pygments_lexer": "ipython3",
   "version": "3.7.3"
  }
 },
 "nbformat": 4,
 "nbformat_minor": 2
}
