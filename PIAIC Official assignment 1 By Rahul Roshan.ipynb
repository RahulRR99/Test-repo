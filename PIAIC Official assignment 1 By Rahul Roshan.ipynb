{
 "cells": [
  {
   "cell_type": "markdown",
   "metadata": {},
   "source": [
    "## 1. Calculate Area of a Circle"
   ]
  },
  {
   "cell_type": "markdown",
   "metadata": {},
   "source": [
    "#### Write a Python program which accepts the radius of a circle from the user and compute the area.\n",
    "###### Program Console Sample Output 1:\n",
    "###### Input Radius: 0.5\n",
    "###### Area of Circle with radius 0.5 is 0.7853981634"
   ]
  },
  {
   "cell_type": "code",
   "execution_count": 27,
   "metadata": {},
   "outputs": [
    {
     "name": "stdout",
     "output_type": "stream",
     "text": [
      "Enter the radius of a Circle : 0.5\n",
      "Area Of a Circle with radius 0.5 is 0.78525\n"
     ]
    }
   ],
   "source": [
    "radius = float(input('Enter the radius of a Circle : '))\n",
    "pie = float(3.141)\n",
    "area = pie*(radius*radius)\n",
    "area = round(area,5)\n",
    "print(\"Area Of a Circle with radius 0.5 is {0}\".format(area))"
   ]
  },
  {
   "cell_type": "markdown",
   "metadata": {},
   "source": [
    "## 2. Check Number either positive, negative or zero"
   ]
  },
  {
   "cell_type": "markdown",
   "metadata": {},
   "source": [
    "#### Write a Python program to check if a number is positive, negative or zero\n",
    "###### Program Console Sample Output 1:\n",
    "###### Enter Number: -1\n",
    "##### Negative Number Entered\n",
    "###### Program Console Sample Output 2:\n",
    "##### Integer: 3\n",
    "##### Positive Number Entered\n",
    "###### Program Console Sample Output 3:\n",
    "##### Integer: 0\n",
    "###### Zero Entered"
   ]
  },
  {
   "cell_type": "code",
   "execution_count": 28,
   "metadata": {},
   "outputs": [
    {
     "name": "stdout",
     "output_type": "stream",
     "text": [
      "Enter a Number : -1\n",
      "Negative Number Entered\n"
     ]
    }
   ],
   "source": [
    "number = int(input(\"Enter a Number : \"))\n",
    "if number < 0:\n",
    "    print(\"Negative Number Entered\")\n",
    "elif number > 0:\n",
    "    print(\"Positive Number Entered\")\n",
    "elif number == 0:\n",
    "    print(\"Zero Entered \")\n",
    "    "
   ]
  },
  {
   "cell_type": "code",
   "execution_count": 29,
   "metadata": {},
   "outputs": [
    {
     "name": "stdout",
     "output_type": "stream",
     "text": [
      "Enter a Number : 3\n",
      "Positive Number Entered\n"
     ]
    }
   ],
   "source": [
    "number = int(input(\"Enter a Number : \"))\n",
    "if number < 0:\n",
    "    print(\"Negative Number Entered\")\n",
    "elif number > 0:\n",
    "    print(\"Positive Number Entered\")\n",
    "elif number == 0:\n",
    "    print(\"Zero Entered \")\n",
    "    "
   ]
  },
  {
   "cell_type": "code",
   "execution_count": 30,
   "metadata": {},
   "outputs": [
    {
     "name": "stdout",
     "output_type": "stream",
     "text": [
      "Enter a Number : 0\n",
      "Zero Entered \n"
     ]
    }
   ],
   "source": [
    "number = int(input(\"Enter a Number : \"))\n",
    "if number < 0:\n",
    "    print(\"Negative Number Entered\")\n",
    "elif number > 0:\n",
    "    print(\"Positive Number Entered\")\n",
    "elif number == 0:\n",
    "    print(\"Zero Entered \")\n",
    "    "
   ]
  },
  {
   "cell_type": "markdown",
   "metadata": {},
   "source": [
    "## 3. Divisibility Check of two numbers"
   ]
  },
  {
   "cell_type": "markdown",
   "metadata": {},
   "source": [
    "Write a Python program to check whether a number is completely divisible by another number. Accept two integer values form the user\n",
    "Program Console Sample Output 1:\n",
    "Enter numerator: 4\n",
    "Enter Denominator: 2\n",
    "Number 4 is Completely divisible by 2\n",
    "Program Console Sample Output 2:\n",
    "Enter numerator: 7\n",
    "\n",
    "Enter Denominator: 4\n",
    "Number 7 is not Completely divisible by 4"
   ]
  },
  {
   "cell_type": "code",
   "execution_count": 32,
   "metadata": {},
   "outputs": [
    {
     "name": "stdout",
     "output_type": "stream",
     "text": [
      "Enter the Numerator : 4\n",
      "Enter the Denominator : 2\n",
      "=====================================================\n",
      "4 Number is completely Divisible by Number 2\n"
     ]
    }
   ],
   "source": [
    "num1 = int(input(\"Enter the Numerator : \"))\n",
    "num2 = int(input(\"Enter the Denominator : \"))\n",
    "print(\"=====================================================\")\n",
    "if num1 % num2 == 0:\n",
    "    print(f\"{num1} Number is completely Divisible by Number {num2}\")\n",
    "else:\n",
    "    print(f\"{num1} Number is not Divisible by Number {num2}\")"
   ]
  },
  {
   "cell_type": "code",
   "execution_count": 33,
   "metadata": {},
   "outputs": [
    {
     "name": "stdout",
     "output_type": "stream",
     "text": [
      "Enter the Numerator : 7\n",
      "Enter the Denominator : 4\n",
      "=====================================================\n",
      "7 Number is not Completely Divisible by Number 4\n"
     ]
    }
   ],
   "source": [
    "num1 = int(input(\"Enter the Numerator : \"))\n",
    "num2 = int(input(\"Enter the Denominator : \"))\n",
    "print(\"=====================================================\")\n",
    "if num1 % num2 == 0:\n",
    "    print(f\"{num1} Number is Completely Divisible by Number {num2}\")\n",
    "else:\n",
    "    print(f\"{num1} Number is not Completely Divisible by Number {num2}\")"
   ]
  },
  {
   "cell_type": "markdown",
   "metadata": {},
   "source": [
    "## 4. Calculate Volume of a sphere"
   ]
  },
  {
   "cell_type": "markdown",
   "metadata": {},
   "source": [
    "##### Write a Python program to get the volume of a sphere, please take the radius as input from user"
   ]
  },
  {
   "cell_type": "markdown",
   "metadata": {},
   "source": [
    "##### Program Console Output:\n",
    "##### Enter Radius of Sphere: 1\n",
    "###### Volume of the Sphere with Radius 1 is 4.18"
   ]
  },
  {
   "cell_type": "code",
   "execution_count": 25,
   "metadata": {},
   "outputs": [
    {
     "name": "stdout",
     "output_type": "stream",
     "text": [
      "Enter the Radius of Sphere : 1\n",
      "Volume of the Sphere is: 4.19\n"
     ]
    }
   ],
   "source": [
    "import math\n",
    "radius = float(input(\"Enter the Radius of Sphere : \"))\n",
    "volume = (4 / 3) * math.pi * (radius**3)\n",
    "volume = round(volume,2)\n",
    "print(\"Volume of the Sphere is: \"+str(volume))"
   ]
  },
  {
   "cell_type": "code",
   "execution_count": 26,
   "metadata": {},
   "outputs": [
    {
     "name": "stdout",
     "output_type": "stream",
     "text": [
      "Enter the Radius of Sphere : 1\n",
      "Volume Of the Sphere is 4.19\n"
     ]
    }
   ],
   "source": [
    "radius = float(input('Enter the Radius of Sphere : '))\n",
    "pie = float(3.141)\n",
    "volume =(4 / 3) * pie*(radius**3)\n",
    "volume = round(volume,2)\n",
    "print(\"Volume Of the Sphere is {0}\".format(volume))"
   ]
  },
  {
   "cell_type": "markdown",
   "metadata": {},
   "source": [
    "# 5. Copy string n times\n",
    "Write a Python program to get a string which is n (non-negative integer) copies of a given string.\n",
    "Program Console Output:\n",
    "Enter String: Hi\n",
    "How many copies of String you need: 4\n",
    "4 Copies of Hi are HiHiHiHi"
   ]
  },
  {
   "cell_type": "code",
   "execution_count": 35,
   "metadata": {},
   "outputs": [
    {
     "name": "stdout",
     "output_type": "stream",
     "text": [
      "Enter the String: Hi\n",
      "How many copies of String you need : 4\n",
      "4 Copies of Hi are: HiHiHiHi\n"
     ]
    }
   ],
   "source": [
    "Text = input(\"Enter the String: \")\n",
    "n = int(input(\"How many copies of String you need : \"))\n",
    "if n > 0:\n",
    "    print(f\"4 Copies of Hi are: {Text*n}\")\n",
    "else:\n",
    "    print(\"Invalid\")"
   ]
  },
  {
   "cell_type": "markdown",
   "metadata": {},
   "source": [
    "## 6. Check if number is Even or Odd\n",
    "### Write a Python program to find whether a given number (accept from the user) is even or odd, print out an appropriate message to the user\n",
    "#### Program Console Output 1:\n",
    "##### Enter Number: 4\n",
    "###### 4 is Even\n",
    "#### Program Console Output 2:\n",
    "##### Enter Number: 9\n",
    "###### 9 is Odd"
   ]
  },
  {
   "cell_type": "code",
   "execution_count": 38,
   "metadata": {},
   "outputs": [
    {
     "name": "stdout",
     "output_type": "stream",
     "text": [
      "Enter any Number: 4\n",
      "4 is Even\n"
     ]
    }
   ],
   "source": [
    "#for even number\n",
    "num = int(input(\"Enter any Number: \"))\n",
    "if num % 2 == 0:\n",
    "    print(f\"{num} is Even\")\n",
    "else:\n",
    "    print(f\"{num} is Odd\")"
   ]
  },
  {
   "cell_type": "code",
   "execution_count": 39,
   "metadata": {},
   "outputs": [
    {
     "name": "stdout",
     "output_type": "stream",
     "text": [
      "Enter any Number: 9\n",
      "9 is Odd\n"
     ]
    }
   ],
   "source": [
    "#for odd number\n",
    "num = int(input(\"Enter any Number: \"))\n",
    "if num % 2 == 0:\n",
    "    print(f\"{numb} is Even\")\n",
    "else:\n",
    "    print(f\"{num} is Odd\")"
   ]
  },
  {
   "cell_type": "markdown",
   "metadata": {},
   "source": [
    "## 7. Vowel Tester\n",
    "### Write a Python program to test whether a passed letter is a vowel or not\n",
    "#### Program Console Output 1:\n",
    "##### Enter a character: A\n",
    "###### Letter A is Vowel\n",
    "#### Program Console Output 2:\n",
    "##### Enter a character: e\n",
    "###### Letter e is Vowel\n",
    "#### Program Console Output 2:\n",
    "##### Enter a character: N\n",
    "###### Letter N is not Vowel"
   ]
  },
  {
   "cell_type": "code",
   "execution_count": 40,
   "metadata": {},
   "outputs": [
    {
     "name": "stdout",
     "output_type": "stream",
     "text": [
      "Enter any letter: A\n",
      "Letter A is Vowel\n"
     ]
    }
   ],
   "source": [
    "letter = input((\"Enter any letter: \"))\n",
    "if letter == 'a' or letter == 'e' or letter == 'i' or letter == 'o' or letter == 'u' or letter == 'A' or letter == 'E' or letter == 'I' or letter == 'O' or letter == 'U':\n",
    "    print(f\"Letter {letter} is Vowel\")\n",
    "else:\n",
    "    print(f\"Letter {letter} is not a Vowel\")"
   ]
  },
  {
   "cell_type": "code",
   "execution_count": 41,
   "metadata": {},
   "outputs": [
    {
     "name": "stdout",
     "output_type": "stream",
     "text": [
      "Enter any letter: e\n",
      "Letter e is Vowel\n"
     ]
    }
   ],
   "source": [
    "letter = input((\"Enter any letter: \"))\n",
    "if letter == 'a' or letter == 'e' or letter == 'i' or letter == 'o' or letter == 'u' or letter == 'A' or letter == 'E' or letter == 'I' or letter == 'O' or letter == 'U':\n",
    "    print(f\"Letter {letter} is Vowel\")\n",
    "else:\n",
    "    print(f\"Letter {letter} is not a Vowel\")"
   ]
  },
  {
   "cell_type": "code",
   "execution_count": 42,
   "metadata": {},
   "outputs": [
    {
     "name": "stdout",
     "output_type": "stream",
     "text": [
      "Enter any letter: N\n",
      "Letter N is not a Vowel\n"
     ]
    }
   ],
   "source": [
    "letter = input((\"Enter any letter: \"))\n",
    "if letter == 'a' or letter == 'e' or letter == 'i' or letter == 'o' or letter == 'u' or letter == 'A' or letter == 'E' or letter == 'I' or letter == 'O' or letter == 'U':\n",
    "    print(f\"Letter {letter} is Vowel\")\n",
    "else:\n",
    "    print(f\"Letter {letter} is not a Vowel\")"
   ]
  },
  {
   "cell_type": "code",
   "execution_count": 43,
   "metadata": {},
   "outputs": [
    {
     "name": "stdout",
     "output_type": "stream",
     "text": [
      "Enter any letter: R\n",
      "Letter R is not a Vowel\n"
     ]
    }
   ],
   "source": [
    "letter = input((\"Enter any letter: \"))\n",
    "if letter == 'a' or letter == 'e' or letter == 'i' or letter == 'o' or letter == 'u' or letter == 'A' or letter == 'E' or letter == 'I' or letter == 'O' or letter == 'U':\n",
    "    print(f\"Letter {letter} is Vowel\")\n",
    "else:\n",
    "    print(f\"Letter {letter} is not a Vowel\")"
   ]
  },
  {
   "cell_type": "markdown",
   "metadata": {},
   "source": [
    "## 8. Triangle area\n",
    "### Write a Python program that will accept the base and height of a triangle and compute the area\n",
    "###### Reference:\n",
    "https://www.mathgoodies.com/lessons/vol1/area_triangle"
   ]
  },
  {
   "cell_type": "code",
   "execution_count": 44,
   "metadata": {},
   "outputs": [
    {
     "name": "stdout",
     "output_type": "stream",
     "text": [
      "Enter the Height of the Triangle: 15\n",
      "Enter the Base of the Triangle: 4\n",
      "-------------------------------------------\n",
      "Area of the Triangle is: 30.0 cm²\n",
      "-------------------------------------------\n"
     ]
    }
   ],
   "source": [
    "import math\n",
    "height = float(input(\"Enter the Height of the Triangle: \"))\n",
    "base = float(input(\"Enter the Base of the Triangle: \"))\n",
    "area = (height * base)/2\n",
    "area = round(area,2)\n",
    "print(\"-------------------------------------------\")\n",
    "print(f\"Area of the Triangle is: {area} cm\\u00b2\")\n",
    "print(\"-------------------------------------------\")"
   ]
  },
  {
   "cell_type": "markdown",
   "metadata": {},
   "source": [
    "## 9. Calculate Interest\n",
    "### Write a Python program to compute the future value of a specified principal amount, rate of interest, and a number of years\n",
    "#### Program Console Sample 1:\n",
    "##### Please enter principal amount: 10000\n",
    "###### Please Enter Rate of interest in %: 0.1\n",
    "###### Enter number of years for investment: 5\n",
    "###### After 5 years your principal amount 10000 over an interest rate of 0.1 % will be 16105.1"
   ]
  },
  {
   "cell_type": "code",
   "execution_count": 45,
   "metadata": {},
   "outputs": [
    {
     "name": "stdout",
     "output_type": "stream",
     "text": [
      "Please Enter the Principal Amount: 10000\n",
      "Please Enter the Rate of Interest in %: 0.1\n",
      "Enter Number of Years for Investment: 5\n",
      "After 5 Years your Principal Amount 10000.0 over an Interest rate of 0.1 will be 16105.1\n"
     ]
    }
   ],
   "source": [
    "principal_amount = float(input(\"Please Enter the Principal Amount: \"))\n",
    "rate_of_interest = float(input(\"Please Enter the Rate of Interest in %: \"))\n",
    "years = int(input(\"Enter Number of Years for Investment: \"))\n",
    "import math\n",
    "rate = rate_of_interest * 100\n",
    "interest_rate = principal_amount * ((1+ (10/100)) ** years)\n",
    "interest_rate = round(interest_rate, 2)\n",
    "\n",
    "print(f\"After {years} Years your Principal Amount {principal_amount} over an Interest rate of {rate_of_interest} will be {interest_rate}\")"
   ]
  },
  {
   "cell_type": "markdown",
   "metadata": {},
   "source": [
    "## 10. Euclidean distance\n",
    "### write a Python program to compute the distance between the points (x1, y1) and (x2, y2).\n",
    "#### Program Console Sample 1:\n",
    "###### Enter Co-ordinate for x1: 2\n",
    "###### Enter Co-ordinate for x2: 4\n",
    "###### Enter Co-ordinate for y1: 4\n",
    "###### Enter Co-ordinate for y2: 4\n",
    "###### Distance between points (2, 4) and (4, 4) is 2"
   ]
  },
  {
   "cell_type": "markdown",
   "metadata": {},
   "source": [
    "###### Reference:\n",
    "https://en.wikipedia.org/wiki/Euclidean_distance"
   ]
  },
  {
   "cell_type": "code",
   "execution_count": 48,
   "metadata": {},
   "outputs": [
    {
     "name": "stdout",
     "output_type": "stream",
     "text": [
      "Enter the value of 'X1': 2\n",
      "Enter the value of 'Y1': 4\n",
      "Enter the value of 'X2': 4\n",
      "Enter the value of 'Y2': 4\n",
      "(x1,y1) = (2,4)\n",
      "(x2,y2) = (4,4)\n",
      "The Distance Between Points (2,4) and (4,4) is: 2.0\n"
     ]
    }
   ],
   "source": [
    "x1 = int(input(\"Enter the value of 'X1': \"))\n",
    "y1 = int(input(\"Enter the value of 'Y1': \"))\n",
    "x2 = int(input(\"Enter the value of 'X2': \"))\n",
    "y2 = int(input(\"Enter the value of 'Y2': \"))\n",
    "import math\n",
    "print(f\"(x1,y1) = ({x1},{y1})\")\n",
    "print(f\"(x2,y2) = ({x2},{y2})\")\n",
    "distance_formula = math.sqrt(pow(x2-x1,2) + pow(y2-y1,2))\n",
    "distance_formula = round(distance_formula,2)\n",
    "print(f\"The Distance Between Points ({x1},{y1}) and ({x2},{y2}) is: {distance_formula}\")"
   ]
  },
  {
   "cell_type": "markdown",
   "metadata": {},
   "source": [
    "11. Feet to Centimeter Converter\n",
    "Write a Python program to convert height in feet to centimetres.\n",
    "Program Console Sample 1:\n",
    " Enter Height in Feet: 5\n",
    "There are 152.4 Cm in 5 ft\n",
    "Reference:\n",
    "https://www.rapidtables.com/convert/length/feet-to-cm.html"
   ]
  },
  {
   "cell_type": "code",
   "execution_count": 52,
   "metadata": {},
   "outputs": [
    {
     "name": "stdout",
     "output_type": "stream",
     "text": [
      "Enter Height in Feet: 5\n",
      "There are 152.4 Cm in 5 ft\n"
     ]
    }
   ],
   "source": [
    "feet = int(input(\"Enter Height in Feet: \"))\n",
    "centimeter = feet * 30.48\n",
    "print(f\"There are {centimeter} Cm in {feet} ft\")"
   ]
  },
  {
   "cell_type": "markdown",
   "metadata": {},
   "source": [
    "## 12. BMI Calculator\n",
    "### Write a Python program to calculate body mass index\n",
    "##### Program Console Sample 1:\n",
    "###### Enter Height in Cm: 180\n",
    "###### Enter Weight in Kg: 75\n",
    "###### Your BMI is 23.15"
   ]
  },
  {
   "cell_type": "code",
   "execution_count": 53,
   "metadata": {},
   "outputs": [
    {
     "name": "stdout",
     "output_type": "stream",
     "text": [
      "Enter Height in Cm: 180\n",
      "Enter Weight in Kg: 75\n",
      "=======================================\n",
      "Height in Centimeters: 180.0cm\n",
      "Weight in Kilogram: 75.0kg\n",
      "Body Mass Index is: 23.15\n",
      "Category: Normal (healthy weight)\n"
     ]
    }
   ],
   "source": [
    "import math\n",
    "height = float(input(\"Enter Height in Cm: \"))\n",
    "weight = float(input(\"Enter Weight in Kg: \"))\n",
    "bmi = (weight / (math.pow(height * 0.01,2)))\n",
    "bmi = round(bmi,2)\n",
    "\n",
    "print(\"=======================================\")\n",
    "print(\"Height in Centimeters: \"+str(height)+\"cm\")\n",
    "print(\"Weight in Kilogram: \"+str(weight)+\"kg\")\n",
    "print(\"Body Mass Index is: \"+str(bmi))\n",
    "\n",
    "if bmi < 15:\n",
    "    print(\"Category: Very severely underweight\")\n",
    "elif bmi <= 16:\n",
    "    print(\"Category: Severely underweight\")\n",
    "elif bmi <= 18.5:\n",
    "    print(\"Category: Underweight\")\n",
    "elif bmi <= 25:\n",
    "    print(\"Category: Normal (healthy weight)\")\n",
    "elif bmi <= 30:\n",
    "    print(\"Category: Overweight\")\n",
    "elif bmi <= 35:\n",
    "    print(\"Category: Moderately obese\")\n",
    "elif bmi <= 40:\n",
    "    print(\"Category: Severely obese\")\n",
    "elif bmi <= 50:\n",
    "    print(\"Category: Very severely obese\")\n",
    "else:\n",
    "    print(\"Invalid\")"
   ]
  },
  {
   "cell_type": "markdown",
   "metadata": {},
   "source": [
    "## 13. Sum of n Positive Integers\n",
    "### Write a python program to sum of the first n positive integers\n",
    "#### Program Console Sample 1:\n",
    "###### Enter value of n: 5\n",
    "###### Sum of n Positive integers till 5 is 15"
   ]
  },
  {
   "cell_type": "code",
   "execution_count": 54,
   "metadata": {},
   "outputs": [
    {
     "name": "stdout",
     "output_type": "stream",
     "text": [
      "Enter the value of N: 5\n",
      "Sum of N Positive Integer till 5 is 15\n"
     ]
    }
   ],
   "source": [
    "total = 0\n",
    "num = int(input(\"Enter the value of N: \"))\n",
    "for i in range(num+1):\n",
    "    total += i\n",
    "print(f\"Sum of N Positive Integer till {num} is {total}\")"
   ]
  },
  {
   "cell_type": "markdown",
   "metadata": {},
   "source": [
    "# 14. Digits Sum of a Number\n",
    "Write a Python program to calculate the sum of the digits in an integer\n",
    "Program Console Sample 1:\n",
    "Enter a number: 15\n",
    "Sum of 1 + 5 is 6\n",
    "Program Console Sample 2:\n",
    "Enter a number: 1234\n",
    "Sum of 1 + 2 + 3 + 4 is 10"
   ]
  },
  {
   "cell_type": "code",
   "execution_count": 55,
   "metadata": {},
   "outputs": [
    {
     "name": "stdout",
     "output_type": "stream",
     "text": [
      "Enter Integer Value : 15\n",
      "Sum of the Digits are : 6\n"
     ]
    }
   ],
   "source": [
    "n = input(\"Enter Integer Value : \")\n",
    "sum = 0\n",
    "for d in n:\n",
    "    sum += int(d)\n",
    "print(\"Sum of the Digits are :\", sum)"
   ]
  },
  {
   "cell_type": "code",
   "execution_count": 56,
   "metadata": {},
   "outputs": [
    {
     "name": "stdout",
     "output_type": "stream",
     "text": [
      "Enter Integer Value : 12345\n",
      "Sum of the Digits are : 15\n"
     ]
    }
   ],
   "source": [
    "n = input(\"Enter Integer Value : \")\n",
    "sum = 0\n",
    "for d in n:\n",
    "    sum += int(d)\n",
    "print(\"Sum of the Digits are :\", sum)"
   ]
  }
 ],
 "metadata": {
  "kernelspec": {
   "display_name": "Python 3",
   "language": "python",
   "name": "python3"
  },
  "language_info": {
   "codemirror_mode": {
    "name": "ipython",
    "version": 3
   },
   "file_extension": ".py",
   "mimetype": "text/x-python",
   "name": "python",
   "nbconvert_exporter": "python",
   "pygments_lexer": "ipython3",
   "version": "3.7.3"
  }
 },
 "nbformat": 4,
 "nbformat_minor": 2
}
