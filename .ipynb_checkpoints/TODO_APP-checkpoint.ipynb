{
 "cells": [
  {
   "cell_type": "markdown",
   "metadata": {},
   "source": [
    "# TO DO APP"
   ]
  },
  {
   "cell_type": "code",
   "execution_count": null,
   "metadata": {},
   "outputs": [],
   "source": [
    "Date =input(\"Enter  Date [DD-MM-YYYY] = \")\n",
    "Day =input(\"Enter Day = \")\n",
    "\n",
    "Task_done=[]\n",
    "\n",
    "\n",
    "Daily_Task =[\"Sehri\",'Tilawat','Rest','Job','Iftari','Taravi','Night-circket']\n",
    "print(Daily_Task)\n",
    "print(\"\\n\")\n",
    "\n",
    "while True:\n",
    "    take_task = input(\"Enter Your Task = \").lower()\n",
    "    if take_task in Daily_Task:\n",
    "        indexing_value = Daily_Task.index(take_task)\n",
    "        Task_done.append(Daily_Task.pop(indexing_value))\n",
    "        print(\"Remaining Tasks = \",Daily_Task)\n",
    "        print(\"Your Done Tasks = \", Task_done)\n",
    "        print(\"\\n\")\n",
    "        \n",
    "        if len(Daily_Task)==0: \n",
    "                    print(\"***************** Congratulation !! Your Daily Routen Tasks is completed !! *****************\\n\")\n",
    "                    break\n",
    "  \n",
    "  \n",
    "    else:\n",
    "        print(\"Sorry !! But it's Not in Your Daily Tasks List Try Enter Again \\n\")\n",
    "        \n",
    "print(\"\\n\")\n",
    "print(\"Date            =        \",Date)\n",
    "print(\"Day             =        \",Day)\n",
    "print(\"Your Tasks      =        \",Daily_Task)\n",
    "print(\"Your Done Tasks =        \",Task_done)"
   ]
  },
  {
   "cell_type": "code",
   "execution_count": null,
   "metadata": {
    "scrolled": false
   },
   "outputs": [],
   "source": [
    "Daily_Task =[\"Sehri\",'Tilawat','Rest','Job','Iftari','Taravi','Night-circket']\n",
    "print(Daily_Task)\n",
    "Task_done=[]\n",
    "\n",
    "while True:\n",
    "    user_Task = input(\"Enter Task  You Want To Do = \").lower()\n",
    "    print(\"You Hve Entered Input As :\",(user_Task()))\n",
    "if Take_task in Daily_Task:\n",
    "    Task_done.append(Daily_Task.pop(Daily_Task.index(user_Task)))\n",
    "    print(\"Remaining Tasks = \",Daily_Task)\n",
    "    print(\"Your Done Tasks = \", Task_done)\n",
    "    \n",
    "else:\n",
    "    print(\"The Value You Entered Is Not In The List\")\n"
   ]
  },
  {
   "cell_type": "code",
   "execution_count": null,
   "metadata": {},
   "outputs": [],
   "source": []
  }
 ],
 "metadata": {
  "kernelspec": {
   "display_name": "Python 3",
   "language": "python",
   "name": "python3"
  },
  "language_info": {
   "codemirror_mode": {
    "name": "ipython",
    "version": 3
   },
   "file_extension": ".py",
   "mimetype": "text/x-python",
   "name": "python",
   "nbconvert_exporter": "python",
   "pygments_lexer": "ipython3",
   "version": "3.7.3"
  }
 },
 "nbformat": 4,
 "nbformat_minor": 2
}
