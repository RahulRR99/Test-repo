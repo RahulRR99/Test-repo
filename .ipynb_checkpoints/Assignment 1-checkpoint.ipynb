{
 "cells": [
  {
   "cell_type": "markdown",
   "metadata": {},
   "source": [
    "# Q1:"
   ]
  },
  {
   "cell_type": "raw",
   "metadata": {},
   "source": [
    "Store a message in a variable, and then print that\n",
    "message."
   ]
  },
  {
   "cell_type": "code",
   "execution_count": 2,
   "metadata": {},
   "outputs": [
    {
     "name": "stdout",
     "output_type": "stream",
     "text": [
      "Rahul Roshan\n"
     ]
    }
   ],
   "source": [
    "name = \"Rahul Roshan\"\n",
    "print(name)"
   ]
  },
  {
   "cell_type": "markdown",
   "metadata": {},
   "source": [
    "# Q2:"
   ]
  },
  {
   "cell_type": "raw",
   "metadata": {},
   "source": [
    "Store a message in a variable, and print that message.\n",
    "Then change the value of your variable to a new message, and print the new\n",
    "message."
   ]
  },
  {
   "cell_type": "code",
   "execution_count": 4,
   "metadata": {},
   "outputs": [
    {
     "name": "stdout",
     "output_type": "stream",
     "text": [
      "I am PIAIC Student\n"
     ]
    }
   ],
   "source": [
    "text=\"I am PIAIC Student\"\n",
    "print(text)"
   ]
  },
  {
   "cell_type": "code",
   "execution_count": 1,
   "metadata": {},
   "outputs": [
    {
     "name": "stdout",
     "output_type": "stream",
     "text": [
      "Enter Your New Message : My name is Rahul\n"
     ]
    }
   ],
   "source": [
    "text=input(\"Enter Your New Message : \")"
   ]
  },
  {
   "cell_type": "code",
   "execution_count": 2,
   "metadata": {},
   "outputs": [
    {
     "name": "stdout",
     "output_type": "stream",
     "text": [
      "My name is Rahul\n"
     ]
    }
   ],
   "source": [
    "print(text)"
   ]
  },
  {
   "cell_type": "markdown",
   "metadata": {},
   "source": [
    "# Q3:"
   ]
  },
  {
   "cell_type": "raw",
   "metadata": {},
   "source": [
    "Store a person’s name in a variable, and print a message to that person. Your message should be simple, such as, “Hello Shahzad,\n",
    "would you like to learn some Python today?”"
   ]
  },
  {
   "cell_type": "code",
   "execution_count": 8,
   "metadata": {},
   "outputs": [
    {
     "name": "stdout",
     "output_type": "stream",
     "text": [
      "Hello Rahul Roshan, \n",
      "Would you like to learn some Python today?\n"
     ]
    }
   ],
   "source": [
    "name=\"Rahul Roshan\"\n",
    "print(f'Hello {name}, \\nWould you like to learn some Python today?')"
   ]
  },
  {
   "cell_type": "markdown",
   "metadata": {},
   "source": [
    "# Q4:"
   ]
  },
  {
   "cell_type": "raw",
   "metadata": {},
   "source": [
    "Store a person’s name in a variable, and then print that person’s name in lowercase, uppercase, and titlecase."
   ]
  },
  {
   "cell_type": "code",
   "execution_count": 9,
   "metadata": {},
   "outputs": [
    {
     "name": "stdout",
     "output_type": "stream",
     "text": [
      "Enter Your NameRAHUL ROSHAN\n",
      "rahul roshan\n",
      "RAHUL ROSHAN\n",
      "Rahul Roshan\n"
     ]
    }
   ],
   "source": [
    "name=input(\"Enter Your Name\")\n",
    "print(name.lower())\n",
    "print(name.upper())\n",
    "print(name.title())\n"
   ]
  },
  {
   "cell_type": "code",
   "execution_count": 12,
   "metadata": {},
   "outputs": [
    {
     "name": "stdout",
     "output_type": "stream",
     "text": [
      "Uppercase: RAHUL ROSHAN\n",
      "Lowercase: rahul roshan\n",
      "Titlecase: Rahul Roshan\n"
     ]
    }
   ],
   "source": [
    "print(\"Uppercase: {0}\\n\"\n",
    "      \"Lowercase: {1}\\n\"\n",
    "      \"Titlecase: {2}\".format(name.upper(),name.lower(),name.title()))\n"
   ]
  },
  {
   "cell_type": "markdown",
   "metadata": {},
   "source": [
    "# Q5:"
   ]
  },
  {
   "cell_type": "raw",
   "metadata": {},
   "source": [
    "Find a quote from a famous person you admire. Print the\n",
    "quote and the name of its author. Your output should look something like the\n",
    "following, including the quotation marks:\n",
    "    \n",
    "    \n",
    "Albert Einstein once said, “A person who never made a\n",
    "mistake never tried anything new.”"
   ]
  },
  {
   "cell_type": "code",
   "execution_count": 24,
   "metadata": {},
   "outputs": [
    {
     "name": "stdout",
     "output_type": "stream",
     "text": [
      "WASEEM BARELVI once said, \"apne chehre se jo zāhir hai chhupā.eñ kaise! \n",
      "                           terī marzī ke mutābiq nazar aa.eñ kaise\".\n"
     ]
    }
   ],
   "source": [
    "author = \"WASEEM BARELVI\"\n",
    "quote = \"apne chehre se jo zāhir hai chhupā.eñ kaise! \\n                           terī marzī ke mutābiq nazar aa.eñ kaise\"\n",
    "print(\"{0} once said, \\\"{1}\\\".\".format(author,quote))\n"
   ]
  },
  {
   "cell_type": "markdown",
   "metadata": {},
   "source": [
    "# Q6:"
   ]
  },
  {
   "cell_type": "raw",
   "metadata": {},
   "source": [
    "Write addition, subtraction, multiplication, and division\n",
    "operations that each result in the number 8. Be sure to enclose your operations\n",
    "in print statements to see the results. You should create four lines that look\n",
    "like this:\n",
    "    \n",
    "    \n",
    "print(5 + 3)"
   ]
  },
  {
   "cell_type": "code",
   "execution_count": 25,
   "metadata": {},
   "outputs": [
    {
     "name": "stdout",
     "output_type": "stream",
     "text": [
      "Addition: 7 + 1 = 8\n"
     ]
    }
   ],
   "source": [
    "print(\"Addition: 7 + 1 = {0}\".format(7+1))"
   ]
  },
  {
   "cell_type": "code",
   "execution_count": 29,
   "metadata": {},
   "outputs": [
    {
     "name": "stdout",
     "output_type": "stream",
     "text": [
      "Subtraction: 10 - 2 = 8\n"
     ]
    }
   ],
   "source": [
    "print(\"Subtraction: 10 - 2 = {0}\".format(10-2))\n"
   ]
  },
  {
   "cell_type": "code",
   "execution_count": 2,
   "metadata": {},
   "outputs": [
    {
     "name": "stdout",
     "output_type": "stream",
     "text": [
      "Multiplication: 4 * 2 = 8\n"
     ]
    }
   ],
   "source": [
    "print(\"Multiplication: 4 * 2 = {0}\".format(4*2))\n"
   ]
  },
  {
   "cell_type": "code",
   "execution_count": 1,
   "metadata": {},
   "outputs": [
    {
     "name": "stdout",
     "output_type": "stream",
     "text": [
      "Division: 16 / 2 = 8.0\n"
     ]
    }
   ],
   "source": [
    "print(\"Division: 16 / 2 = {0}\".format(16/2))\n"
   ]
  },
  {
   "cell_type": "markdown",
   "metadata": {},
   "source": [
    "# Q7:"
   ]
  },
  {
   "cell_type": "raw",
   "metadata": {},
   "source": [
    "Create a variable called number1 with the value of 8.\n",
    "Write a print statement to print number1 multiplied by 9."
   ]
  },
  {
   "cell_type": "code",
   "execution_count": 9,
   "metadata": {},
   "outputs": [
    {
     "name": "stdout",
     "output_type": "stream",
     "text": [
      "8 * 9 = 72\n"
     ]
    }
   ],
   "source": [
    "number1=8\n",
    "print(\"{0} * 9 = {1}\".format(number1,number1*9))\n"
   ]
  },
  {
   "cell_type": "markdown",
   "metadata": {},
   "source": [
    "# Q8:"
   ]
  },
  {
   "cell_type": "raw",
   "metadata": {},
   "source": [
    "Store your favorite number in a variable. Then, using\n",
    "that variable, create a message that reveals your favorite number. Print that\n",
    "message."
   ]
  },
  {
   "cell_type": "code",
   "execution_count": 25,
   "metadata": {},
   "outputs": [
    {
     "name": "stdout",
     "output_type": "stream",
     "text": [
      "Your Lucky number is 8\n"
     ]
    }
   ],
   "source": [
    "Lucky_no = 8\n",
    "print(\"Your Lucky number is {0}\".format(Lucky_no))\n"
   ]
  },
  {
   "cell_type": "markdown",
   "metadata": {},
   "source": [
    "# Q9:"
   ]
  },
  {
   "cell_type": "raw",
   "metadata": {},
   "source": [
    "Store your name and your age in a varibale called my_name and my_age.\n",
    "Use format method to print your name and your age.\n",
    "Your final output sholud be like this:\n",
    "\n",
    "OUTPUT:    \n",
    "My name is Shahzad Ahsan and my age is 21.\n",
    "\n",
    "NOTE:Use both of the format methods which were discuss in the class."
   ]
  },
  {
   "cell_type": "code",
   "execution_count": 40,
   "metadata": {},
   "outputs": [
    {
     "name": "stdout",
     "output_type": "stream",
     "text": [
      "Enter Your Name :RAHUL ROSHAN\n",
      "Enter Your Age :20\n",
      "My Name is RAHUL ROSHAN And MY Age is 20\n",
      "My name is RAHUL ROSHAN and My age is 20.\n",
      "My name is RAHUL ROSHAN and My age is 20\n"
     ]
    }
   ],
   "source": [
    "My_name = input(\"Enter Your Name :\")\n",
    "My_age = (input(\"Enter Your Age :\"))\n",
    "print(\"My Name is {0} And MY Age is {1}\".format(My_name,My_age) )\n",
    "print(f'My name is {My_name} and My age is {My_age}.')\n",
    "print(\"My name is \" + My_name + \" and My age is \" + str(My_age)  )\n"
   ]
  },
  {
   "cell_type": "markdown",
   "metadata": {},
   "source": [
    "# Q10:"
   ]
  },
  {
   "cell_type": "raw",
   "metadata": {},
   "source": [
    "Write a Python program to check if a number is positive, negative or zero."
   ]
  },
  {
   "cell_type": "code",
   "execution_count": 37,
   "metadata": {},
   "outputs": [
    {
     "name": "stdout",
     "output_type": "stream",
     "text": [
      "Enter a Number : 2457567575\n",
      "2457567575 is Positive \n"
     ]
    }
   ],
   "source": [
    "number = int(input(\"Enter a Number : \"))\n",
    "if number < 0:\n",
    "    print(\"{0} is Negative \".format(number))\n",
    "elif number > 0:\n",
    "    print(\"{0} is Positive \".format(number))\n",
    "elif number == 0:\n",
    "    print(\"{0} is zero \".format(number))\n",
    "    "
   ]
  },
  {
   "cell_type": "markdown",
   "metadata": {},
   "source": [
    "# Q11:"
   ]
  },
  {
   "cell_type": "raw",
   "metadata": {},
   "source": [
    "Write a Python program which accepts the radius of a circle from the user and compute the\n",
    "area."
   ]
  },
  {
   "cell_type": "code",
   "execution_count": 1,
   "metadata": {},
   "outputs": [
    {
     "name": "stdout",
     "output_type": "stream",
     "text": [
      "Enter the radius of a Circle : 6\n",
      "Area Of a Circle Is : 113.08\n"
     ]
    }
   ],
   "source": [
    "radius = float(input('Enter the radius of a Circle : '))\n",
    "pie = float(3.141)\n",
    "area = pie*(radius*radius)\n",
    "area = round(area,2)\n",
    "print(\"Area Of a Circle Is : {0}\".format(area))"
   ]
  },
  {
   "cell_type": "code",
   "execution_count": 17,
   "metadata": {},
   "outputs": [
    {
     "name": "stdout",
     "output_type": "stream",
     "text": [
      "Enter the Radius of the Circle: 6\n",
      "Area of the Circle is: 113.1\n"
     ]
    }
   ],
   "source": [
    "radius = float(input(\"Enter the Radius of the Circle: \"))\n",
    "pie = float(3.141)\n",
    "area = pie*(radius*radius)\n",
    "area = round(area,1)\n",
    "print(\"Area of the Circle is: \"+str(area))"
   ]
  },
  {
   "cell_type": "markdown",
   "metadata": {},
   "source": [
    "# Q12:"
   ]
  },
  {
   "cell_type": "raw",
   "metadata": {},
   "source": [
    "Write a Python function to check whether a number is completely divisible by another\n",
    "number. Accept two integer values form the user"
   ]
  },
  {
   "cell_type": "code",
   "execution_count": 12,
   "metadata": {},
   "outputs": [
    {
     "name": "stdout",
     "output_type": "stream",
     "text": [
      "Enter the first Number: 21\n",
      "Enter the second Number: 3\n",
      "--------------------------------------------------------\n",
      "21.0 Number is completely Divisible by Number 3.0\n"
     ]
    }
   ],
   "source": [
    "number1 = float(input(\"Enter the first Number: \"))\n",
    "number2 = float(input(\"Enter the second Number: \"))\n",
    "print(\"--------------------------------------------------------\")\n",
    "if number1 % number2 == 0:\n",
    "    print(f'{number1} Number is completely Divisible by Number {number2}')\n",
    "else:\n",
    "    print(f'{number1} Number is not Divisible by Number {number2}')"
   ]
  },
  {
   "cell_type": "markdown",
   "metadata": {},
   "source": [
    "# Q13:"
   ]
  },
  {
   "cell_type": "raw",
   "metadata": {},
   "source": [
    "Write a Python program to find whether a given number (accept from the user) is even or\n",
    "odd, print out an appropriate message to the user."
   ]
  },
  {
   "cell_type": "code",
   "execution_count": 29,
   "metadata": {},
   "outputs": [
    {
     "ename": "SyntaxError",
     "evalue": "invalid syntax (<ipython-input-29-a5ed660ab883>, line 2)",
     "output_type": "error",
     "traceback": [
      "\u001b[1;36m  File \u001b[1;32m\"<ipython-input-29-a5ed660ab883>\"\u001b[1;36m, line \u001b[1;32m2\u001b[0m\n\u001b[1;33m    if number % 2 == 0:\u001b[0m\n\u001b[1;37m                      ^\u001b[0m\n\u001b[1;31mSyntaxError\u001b[0m\u001b[1;31m:\u001b[0m invalid syntax\n"
     ]
    }
   ],
   "source": [
    "number = float(input(\"Enter your Number :\")\n",
    "if number % 2 == 0:\n",
    "    print(\"Your Number Is EVEN !\")\n",
    "else:\n",
    "    print(\"Your Number Is ODD !\")"
   ]
  },
  {
   "cell_type": "code",
   "execution_count": null,
   "metadata": {},
   "outputs": [],
   "source": []
  },
  {
   "cell_type": "markdown",
   "metadata": {},
   "source": [
    "# Q14:"
   ]
  },
  {
   "cell_type": "raw",
   "metadata": {},
   "source": [
    " Print a suitable statement that uses their response. Such as, if they entered “Bangkok”: “I’d love to visit Bangkook more often”."
   ]
  },
  {
   "cell_type": "code",
   "execution_count": 30,
   "metadata": {},
   "outputs": [
    {
     "name": "stdout",
     "output_type": "stream",
     "text": [
      "Please enter anything: hi\n",
      "I don't know what you mean by hi\n"
     ]
    }
   ],
   "source": [
    "\n",
    "response= input(\"Please enter anything: \")\n",
    "\n",
    "print(\"I don't know what you mean by {0}\".format(response))\n",
    "\n"
   ]
  },
  {
   "cell_type": "code",
   "execution_count": 33,
   "metadata": {},
   "outputs": [
    {
     "name": "stdout",
     "output_type": "stream",
     "text": [
      "Enter the city name: china\n",
      "Not Interested\n"
     ]
    }
   ],
   "source": [
    "city = input(\"Enter the city name: \")\n",
    "if city ==\"newyork\" or city == \"bangkok\":\n",
    "    print(\"“I’d love to visit Newyork more often”\")\n",
    "else:\n",
    "      print(\"Not Interested\")"
   ]
  },
  {
   "cell_type": "markdown",
   "metadata": {},
   "source": [
    "# Q15:"
   ]
  },
  {
   "cell_type": "raw",
   "metadata": {},
   "source": [
    "Write an input line to ask a user whether they want to take the red pill or the blue pill.\n",
    "\n",
    " If they write “red” then print “You stay in wonderland and see how far the rabbit hole goes”.\n",
    " \n",
    " Elif they write “blue” then print “You wake up in your bed and believe what you want to believe.”.\n",
    " \n",
    " Else print “That’s not an option Neo.”"
   ]
  },
  {
   "cell_type": "code",
   "execution_count": 29,
   "metadata": {},
   "outputs": [
    {
     "name": "stdout",
     "output_type": "stream",
     "text": [
      "Would you like to have the Red Pill or the Blue Pill ? fgff\n",
      " “That’s not an option Neo.”\n"
     ]
    }
   ],
   "source": [
    "pill = input(\"Would you like to have the Red Pill or the Blue Pill ? \").lower()\n",
    "if pill == \"red\" :\n",
    "    print(\"“You stay in wonderland and see how far the rabbit hole goes”.\")\n",
    "elif pill == \"Blue\":\n",
    "    print(\"“You wake up in your bed and believe what you want to believe.”\")\n",
    "else:\n",
    "    print(\" “That’s not an option Neo.”\")\n",
    "   "
   ]
  },
  {
   "cell_type": "code",
   "execution_count": null,
   "metadata": {},
   "outputs": [],
   "source": []
  }
 ],
 "metadata": {
  "kernelspec": {
   "display_name": "Python 3",
   "language": "python",
   "name": "python3"
  },
  "language_info": {
   "codemirror_mode": {
    "name": "ipython",
    "version": 3
   },
   "file_extension": ".py",
   "mimetype": "text/x-python",
   "name": "python",
   "nbconvert_exporter": "python",
   "pygments_lexer": "ipython3",
   "version": "3.7.3"
  }
 },
 "nbformat": 4,
 "nbformat_minor": 2
}
