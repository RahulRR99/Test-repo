{
 "cells": [
  {
   "cell_type": "markdown",
   "metadata": {},
   "source": [
    "# to Do list app"
   ]
  },
  {
   "cell_type": "code",
   "execution_count": 7,
   "metadata": {},
   "outputs": [
    {
     "name": "stdout",
     "output_type": "stream",
     "text": [
      "Enter any task you do in Ramazan :keep fast\n",
      "yor remaning task is :,['weak', 'take rest', 'Perform Namz', 'than sleep', 'take iftare']\n",
      "yor Complettask is :,['keep fast']\n"
     ]
    }
   ],
   "source": [
    "task_list=['weak', 'keep fast', 'take rest', 'Perform Namz', 'than sleep', 'take iftare']\n",
    "empty_list=[]\n",
    "task_select=input(\"Enter any task you do in Ramazan :\")\n",
    "if task_select in task_list:\n",
    "    store_task=task_list.index(task_select)\n",
    "    task_list.pop(store_task)\n",
    "    empty_list.append(task_select)\n",
    "    print(f\"yor remaning task is :,{task_list}\")\n",
    "    print(f\"yor Complettask is :,{empty_list}\")\n",
    "else:\n",
    "    print(\"your tast is not in list\")\n",
    "\n",
    "    \n",
    "    "
   ]
  },
  {
   "cell_type": "code",
   "execution_count": null,
   "metadata": {},
   "outputs": [],
   "source": []
  }
 ],
 "metadata": {
  "kernelspec": {
   "display_name": "Python 3",
   "language": "python",
   "name": "python3"
  },
  "language_info": {
   "codemirror_mode": {
    "name": "ipython",
    "version": 3
   },
   "file_extension": ".py",
   "mimetype": "text/x-python",
   "name": "python",
   "nbconvert_exporter": "python",
   "pygments_lexer": "ipython3",
   "version": "3.7.3"
  }
 },
 "nbformat": 4,
 "nbformat_minor": 2
}
